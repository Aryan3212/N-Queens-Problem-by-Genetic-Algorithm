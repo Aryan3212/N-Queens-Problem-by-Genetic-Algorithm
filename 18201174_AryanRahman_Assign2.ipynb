{
  "nbformat": 4,
  "nbformat_minor": 0,
  "metadata": {
    "colab": {
      "name": "18201174_AryanRahman_Assign2.ipynb",
      "provenance": [],
      "collapsed_sections": []
    },
    "kernelspec": {
      "name": "python3",
      "display_name": "Python 3"
    }
  },
  "cells": [
    {
      "cell_type": "markdown",
      "metadata": {
        "id": "LjGNAQH1OA3l"
      },
      "source": [
        "## CSE422 lab: Genetic Algorithm"
      ]
    },
    {
      "cell_type": "markdown",
      "metadata": {
        "id": "7W2dAmlIEMXj"
      },
      "source": [
        "#### Genetic Algorithm Pseudo code:\n",
        "\n"
      ]
    },
    {
      "cell_type": "markdown",
      "metadata": {
        "id": "gdQcmGl0_jvc"
      },
      "source": [
        "**function** GENETIC-ALGORITHM( population, FITNESS-FN) **returns** an individual \n",
        " \n",
        "> **inputs:** population- a set of individuals/chromosomes; FITNESS-FN- a function that measures the fitness of an individual\n",
        "\n",
        ">**repeat** \n",
        "new_population $\\leftarrow$ empty set \n",
        ">>**for** $i=1$ **to** size ($ population$) **do**\n",
        "$$\n",
        "\\begin{array}{l}\n",
        "x \\leftarrow \\text { RANDOM-SELECTION }(\\text { population, FITNESS-FN }) \\\\\n",
        "y \\leftarrow \\text { RANDOM-SELECTION }(\\text { population, FITNESS-FN }) \\\\\n",
        "child  \\leftarrow \\operatorname{CROSSOVER}(x, y)\n",
        "\\end{array}\n",
        "$$\n",
        ">>>**if** (some_random_number < mutation_threshold) **then** child$\\leftarrow$ MUTATE ( child ) \n",
        "\n",
        ">>>add child to new_population \n",
        "\n",
        ">>population $\\leftarrow$ new_population \n",
        "\n",
        ">**until** some individual is fit enough, or enough time has elapsed\n",
        "\n",
        ">**return** the best individual in population, according to FITNESS-FN\n",
        " \n"
      ]
    },
    {
      "cell_type": "markdown",
      "metadata": {
        "id": "nDkKH11UOHvy"
      },
      "source": [
        "### Skeleton Code:"
      ]
    },
    {
      "cell_type": "markdown",
      "metadata": {
        "id": "Z86D3OcTgZAN"
      },
      "source": [
        "### Importing libraries"
      ]
    },
    {
      "cell_type": "code",
      "metadata": {
        "id": "DVUZn7mX25Zj"
      },
      "source": [
        "import numpy as np\n",
        "import operator as op\n",
        "from functools import reduce\n",
        "import random"
      ],
      "execution_count": null,
      "outputs": []
    },
    {
      "cell_type": "markdown",
      "metadata": {
        "id": "FrkwKxS0gUV5"
      },
      "source": [
        "### Fitness function"
      ]
    },
    {
      "cell_type": "code",
      "metadata": {
        "id": "CGWWuBT820Uo"
      },
      "source": [
        "def ncr(n, r):\n",
        "  r = min(r, n-r)\n",
        "  numer = reduce(op.mul, range(n, n-r, -1), 1)\n",
        "  denom = reduce(op.mul, range(1, r+1), 1)\n",
        "  return numer // denom \n",
        "\n",
        "def fitness(population, n):\n",
        "  max_pair = ncr(n,2)\n",
        "  '''calculates the fitness score of each\n",
        "     of the individuals in the population\n",
        "     \n",
        "     returns a 1D numpy array: index referring to \n",
        "     ith individual in population, and value referring \n",
        "     to the fitness score.'''\n",
        "  fitness_sum = 0\n",
        "  fitness_results = np.zeros(len(population))\n",
        "  #print(\"fitness_results: \", fitness_results)\n",
        "\n",
        "  for i in range(len(population)):\n",
        "    collisions = 0\n",
        "    sample = population[i]\n",
        "    #print(\"Fitness sample: \",sample)\n",
        "\n",
        "    for j in range(n-1):\n",
        "\n",
        "      for k in range(j+1,n):\n",
        "\n",
        "        if sample[j]==sample[k]:\n",
        "          collisions+=1\n",
        "        elif abs(j-k)==abs(sample[j]-sample[k]):\n",
        "          collisions+=1\n",
        "\n",
        "    fitness_results[i]=max_pair-collisions\n",
        "    fitness_sum+=fitness_results[i]\n",
        "  \n",
        "\n",
        "  return list(map(lambda a: a/fitness_sum, fitness_results))"
      ],
      "execution_count": null,
      "outputs": []
    },
    {
      "cell_type": "markdown",
      "metadata": {
        "id": "F-5xhfamezBP"
      },
      "source": [
        "### Random Selection function\n",
        "\n",
        "This built-in function might help to create the weighted random selection:\n",
        "\n",
        "`numpy.random.choice(a, size, replace, p)` \n",
        "\n",
        "`p` are the weights of the individuals- value between 0 and 1; refers to the probability of each individual being selected.\n",
        "\n",
        "`a` is the array\n",
        "\n",
        "`size` how many samples to return\n",
        "\n",
        "`replace = True`"
      ]
    },
    {
      "cell_type": "code",
      "metadata": {
        "id": "mCgercZ4_DQ8"
      },
      "source": [
        "def select(population, fit):\n",
        "  ''' take input:  population and fit\n",
        "      fit contains fitness values of each of the individuals \n",
        "      in the population  \n",
        "      \n",
        "      return:  one individual randomly giving\n",
        "      more weight to ones which have high fitness score'''\n",
        "  ab = [x for x in range(len(fit))]\n",
        "\n",
        "  return np.random.choice(a=ab, size=1, p=fit,replace=True)"
      ],
      "execution_count": null,
      "outputs": []
    },
    {
      "cell_type": "markdown",
      "metadata": {
        "id": "ysZu4DVmgshV"
      },
      "source": [
        "### Crossover function\n",
        "\n",
        "\n",
        "**function** CROSSOVER $(x, y)$ **returns** an individual \n",
        "\n",
        ">**inputs**: $x, y$  which are the parent individuals\n",
        "\n",
        ">$n \\leftarrow \\mathrm{LENGTH}(x) ; c \\leftarrow$ random number from 1 to $n$ \n",
        "\n",
        ">**return** APPEND(SUBSTRING $(x, 1, c),$ SUBSTRING $(y, c+1, n))$"
      ]
    },
    {
      "cell_type": "code",
      "metadata": {
        "id": "ZtmoFQ9ugwN_"
      },
      "source": [
        "def crossover(x, y):\n",
        "  '''take input: 2 parents - x, y. \n",
        "     Generate a random crossover point. \n",
        "     Append first half of x with second \n",
        "     half of y to create the child\n",
        "     \n",
        "     returns: a child chromosome'''\n",
        "  c = random.randint(0,len(x)-1)\n",
        "  x = x[0:c]\n",
        "  y = y[c:len(y)]\n",
        "  child = np.concatenate((x,y))\n",
        "  return child"
      ],
      "execution_count": null,
      "outputs": []
    },
    {
      "cell_type": "markdown",
      "metadata": {
        "id": "RJJuuGbyxzho"
      },
      "source": [
        "###Mutation function"
      ]
    },
    {
      "cell_type": "code",
      "metadata": {
        "id": "zRIG9DXmxzFw"
      },
      "source": [
        "def mutate(child):\n",
        "  '''take input: a child\n",
        "     mutates a random \n",
        "     gene into another random gene\n",
        "     \n",
        "     returns: mutated child'''\n",
        "  \n",
        "  index_1 = random.randint(0,len(child)-1)\n",
        "  index_2 = random.randint(0,len(child)-1)\n",
        "  child[index_1],child[index_2] = random.randint(0,len(child)-1), random.randint(0,len(child)-1)\n",
        "  \n",
        "  return child"
      ],
      "execution_count": null,
      "outputs": []
    },
    {
      "cell_type": "markdown",
      "metadata": {
        "id": "yOPop-7n5WYL"
      },
      "source": [
        "### Genetic Algorithm Function"
      ]
    },
    {
      "cell_type": "code",
      "metadata": {
        "id": "uw2sfb9nW_yo"
      },
      "source": [
        "def score(sample):\n",
        "  n = len(sample)\n",
        "  collisions = 0\n",
        "  for j in range(0,n-1):\n",
        "      \n",
        "      for k in range(j+1,n):\n",
        "        if sample[j]==sample[k]:\n",
        "          collisions+=1\n",
        "        elif abs(j-k)==abs(sample[j]-sample[k]):\n",
        "          collisions+=1\n",
        " \n",
        "  #print(\"Collisions: \", collisions)\n",
        "\n",
        "  return collisions\n",
        "\n",
        "\n",
        "def GA(population, n, mutation_threshold = 0.3):\n",
        "  '''implement the pseudocode here by\n",
        "     calling the necessary functions- Fitness, \n",
        "     Selection, Crossover and Mutation\n",
        "     \n",
        "     print: the max fitness value and the \n",
        "     chromosome that generated it which is ultimately \n",
        "     the solution board'''\n",
        "  goal_fit = ncr(n,2)\n",
        "  print(goal_fit)\n",
        "  b = n-1\n",
        "  length = len(population)\n",
        "  fit = fitness(population, n)\n",
        "  print(\"fit: \", fit)\n",
        "  a = len(population)\n",
        "  for j in range(100000):\n",
        "    new_population = np.zeros((a,n),dtype=int)\n",
        "    fit = fitness(population, n)\n",
        "    #print(population)\n",
        "    for i in range(length):\n",
        "      #print(\"fitness_results: \", fit)\n",
        "      x = population[select(population, fit)[0]]\n",
        "      y = population[select(population, fit)[0]]\n",
        "      #print(\"My parents are : \", x,y)\n",
        "      child = crossover(x,y)\n",
        "      #print(\"I am the child\", child)\n",
        "      if random.random() <= mutation_threshold:\n",
        "        child = mutate(child)\n",
        "      if score(child) == 0:\n",
        "        print(\"Found the goal fit in\", i)\n",
        "        return child\n",
        "      new_population[i] = child\n",
        "\n",
        "    for h in range(5):\n",
        "      population[random.randint(0,b)]=new_population[random.randint(0,b)]\n",
        "\n",
        "  return None"
      ],
      "execution_count": null,
      "outputs": []
    },
    {
      "cell_type": "markdown",
      "metadata": {
        "id": "cHKgDnDKb8mh"
      },
      "source": [
        "Running the Genetic Algorithm function"
      ]
    },
    {
      "cell_type": "code",
      "metadata": {
        "id": "01Pz8Q_Jb7qE",
        "colab": {
          "base_uri": "https://localhost:8080/"
        },
        "outputId": "3391f969-75dc-4ee5-bdc8-39ac6b2d0aba"
      },
      "source": [
        "'''for 8 queen problem, n = 8'''\n",
        "n = 10\n",
        "\n",
        "'''start_population denotes how many individuals/chromosomes are there\n",
        "  in the initial population n = 8'''\n",
        "start_population = 10 \n",
        "\n",
        "'''if you want you can set mutation_threshold to a higher value,\n",
        "   to increase the chances of mutation'''\n",
        "mutation_threshold = 0.6\n",
        "\n",
        "'''creating the population with random integers between 0 to 7 inclusive\n",
        "   for n = 8 queen problem'''\n",
        "population = np.random.randint(n, size=(start_population, n))\n",
        "\n",
        "\n",
        "'''calling the GA function'''\n",
        "bestboy = GA(population, n, mutation_threshold)\n",
        "print(\"The solution is\",bestboy)"
      ],
      "execution_count": null,
      "outputs": [
        {
          "output_type": "stream",
          "text": [
            "45\n",
            "fit:  [0.08605341246290801, 0.09495548961424333, 0.09792284866468842, 0.10089020771513353, 0.10089020771513353, 0.11275964391691394, 0.10089020771513353, 0.09792284866468842, 0.10682492581602374, 0.10089020771513353]\n",
            "Found the goal fit in 6\n",
            "The solution is [2 7 1 6 0 9 4 8 5 3]\n"
          ],
          "name": "stdout"
        }
      ]
    },
    {
      "cell_type": "code",
      "metadata": {
        "id": "V718dasgbCe4"
      },
      "source": [
        ""
      ],
      "execution_count": null,
      "outputs": []
    }
  ]
}